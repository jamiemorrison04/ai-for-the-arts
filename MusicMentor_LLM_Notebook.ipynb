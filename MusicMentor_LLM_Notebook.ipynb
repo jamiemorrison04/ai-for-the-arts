{
 "cells": [
  {
   "cell_type": "markdown",
   "id": "e60552a7",
   "metadata": {},
   "source": [
    "# **Music Mentor**\n",
    "\n",
    "### Introduction\n",
    "\n",
    "- *Music Mentor* is a large language model-powered digital assistant designed to collaborate with musicians — from beginners to professionals — to inspire, guide, and co-create music. It helps users compose, explore music theory, generate lyrics, and connect musical ideas across genres and cultures.\n",
    "\n"
   ]
  },
  {
   "cell_type": "markdown",
   "id": "020f1a3f",
   "metadata": {},
   "source": [
    "## **Interaction Design**\n",
    "\n",
    "- This section will be on how humans, AI, and any other tools would *interact* with each other in my proposed digital assistant.\n",
    "- Firstly, each person/tool's role and what they do:"
   ]
  },
  {
   "cell_type": "markdown",
   "id": "b0c6a451",
   "metadata": {},
   "source": [
    "### AI Agents (LLMs and Music Model)\n",
    "\n",
    "1. *Lyric Model:*\n",
    "- Generates and edits lyrics based on emotion, genre, theme, or style.\n",
    "\n",
    "2. *Composition Model:*\n",
    "- Assists with melody, harmony, and structure suggestions using symbolic or audio-based music generation (e.g., MIDI or notation).\n",
    "\n",
    "3. *Critique & Explain Model:*\n",
    "- Acts as a coach, giving theory explanations (e.g., “This chord progression modulates to the relative minor\") and offering feedback."
   ]
  },
  {
   "cell_type": "markdown",
   "id": "91bd1197",
   "metadata": {},
   "source": [
    "### Human Use\n",
    "\n",
    "1. *For learners:* \n",
    "- Music students or people looking to music as a hobby may use this as a tool to assist their composition or theory skills.\n",
    "\n",
    "2. *For Creators:*\n",
    "- Musicians/Songwriters looking for inspiration or co-writing support whether that be lyrcially or musically.\n",
    "\n",
    "3. *For Educators:*\n",
    "- *Music Mentor* is a great digital assistant that would be beneficial to students if integrated into the classroom environment."
   ]
  },
  {
   "cell_type": "markdown",
   "id": "813be353",
   "metadata": {},
   "source": [
    "### Tools\n",
    "\n",
    "- This software can come in three different forms to help out all musicans whether beginner or proffesional, or whether they need quick help or lengthy explanations. \n",
    "\n",
    "1. *Notation software plugin (e.g., Sibelius or MuseScore):*\n",
    "- Integrated software into music applications where Music Mentor can work directly onto the score, helping edit and change things like pitch, rhythm, harmony, and many more details.\n",
    "\n",
    "2. *DAW companion app (e.g., Logic/GarageBand integration):*\n",
    "- Again, integrates software into music applications where Music Mentor can work directly onto recorded audio, such as editing and changing effects, timing, and sound.\n",
    "\n",
    "3. *Mobile app with voice & text chat for quick music brainstorming on the go:*\n",
    "- Chatbot-like discussions where musicians may need quick help with generating lyrics, defining and understanding music definitions, or conversations about anything music related."
   ]
  },
  {
   "cell_type": "markdown",
   "id": "8d752c04",
   "metadata": {},
   "source": [
    "### Interaction Flow\n",
    "\n",
    "- Now, i present a scenario that effectively showcases both the human's and the AI's role and how they interact with each other in an application:\n",
    "\n",
    "<br>\n",
    "\n",
    "1. *User Input:*\n",
    "- “Write a melody in D Dorian that sounds like medieval folk music.”\n",
    "\n",
    "2. *LLM Generates:*\n",
    "- A short motif, explains why it works, and suggests harmonies.\n",
    "\n",
    "3. *User Edits or Responds:*\n",
    "- Adds a lyric line or asks, “Can you reharmonize this in a jazz style?”\n",
    "\n",
    "4. *Model Collaborates:*\n",
    "- Transforms ideas based on evolving dialogue.\n"
   ]
  },
  {
   "cell_type": "markdown",
   "id": "3cd8a6d4",
   "metadata": {},
   "source": [
    "## **Value of the Design**\n",
    "\n",
    "- Next, I will discuss the *value* in the creation of this large-language-model through Learning, Engagement, and Inclusion:\n"
   ]
  },
  {
   "cell_type": "markdown",
   "id": "4df60e57",
   "metadata": {},
   "source": [
    "1. *Learning*\n",
    "- Explains concepts (e.g., modal theory, syncopation) interactively through media examples (photos, videos).\n",
    "\n",
    "- Helps students see and hear theory in action, reinforcing music literacy.\n",
    "\n",
    "2. *Engagement*\n",
    "- Encourages creativity by offering “what if?” pathways (e.g., what if you turned this sad ballad into a major-key pop track?).\n",
    "\n",
    "- Acts like a non-judgmental musical partner, reducing fear of creative failure.\n",
    "\n",
    "3. *Inclusion*\n",
    "- Adapts to different learning styles: visual, aural, or verbal.\n",
    "\n",
    "- Can include prompts and explanations in multiple languages.\n",
    "\n",
    "- Helps users with disabilities by supporting voice interaction and accessible music notation.\n"
   ]
  },
  {
   "cell_type": "markdown",
   "id": "20cef98d",
   "metadata": {},
   "source": [
    "## **Critical Reflection**\n",
    "\n",
    "- I will now finish by critically reflecting on both the postive effects of *Music Mentor's* use, and what potentially could be changed to help give a better user experience:"
   ]
  },
  {
   "cell_type": "markdown",
   "id": "b139a93e",
   "metadata": {},
   "source": [
    "1. *Positive Implications*\n",
    "- Wider access to music creation: lowers barriers for those without formal training.\n",
    "\n",
    "- Global music exposure: can suggest ideas from non-Western traditions, promoting cultural appreciation.\n",
    "\n",
    "- Supports neurodiverse learning: flexible formats and sensory feedback help tailor learning experiences.\n",
    "\n",
    "<br>\n",
    "\n",
    "2. *Potential Concerns*\n",
    "- Creativity commodification: Might discourage originality if users over-rely on AI-generated templates.\n",
    "\n",
    "- Bias in musical output: If trained mostly on Western datasets, it might underrepresent global genres.\n",
    "\n",
    "- Replacement anxiety: Some may worry it replaces educators or composers — needs to be framed as a collaborator, not a substitute."
   ]
  }
 ],
 "metadata": {
  "language_info": {
   "name": "python"
  }
 },
 "nbformat": 4,
 "nbformat_minor": 5
}
