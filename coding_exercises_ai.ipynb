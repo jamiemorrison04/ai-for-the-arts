{
 "cells": [
  {
   "cell_type": "markdown",
   "metadata": {},
   "source": [
    "# First Codespaces Markdown File\n",
    "\n",
    "I created this notebook to have a space where I can learn about basic programming concepts and exercise what I have learned in a coding space."
   ]
  },
  {
   "cell_type": "markdown",
   "metadata": {},
   "source": [
    "## First Coding Experience\n",
    "\n",
    "The following code is my first attempt at writing code for AI for the Arts course.\n"
   ]
  },
  {
   "cell_type": "code",
   "execution_count": 28,
   "metadata": {},
   "outputs": [
    {
     "name": "stdout",
     "output_type": "stream",
     "text": [
      "Hello, this is a test code! Can you read me?\n"
     ]
    }
   ],
   "source": [
    "print(\"Hello, this is a test code! Can you read me?\")"
   ]
  },
  {
   "cell_type": "markdown",
   "metadata": {},
   "source": [
    "## Printing\n",
    "\n",
    "I submitted this prompt to Microsoft Copilot: \"Could you suggest a python code for ‘Hello, world!’to demonstrate the concept of printing to a complete beginner in programming? Please explain the code step-by-step highlighting any key aspects.\"\n",
    "\n",
    "My takeaways:\n",
    "1. print function used to display text on the screen.\n",
    "2. Text found inside parentheses is called a string.\n",
    "3. You can manipulate the text of the string to say whatever you want, therefore displaying your own customised text.\n",
    "\n",
    "This is the code Microsoft Copilot supplied me with in answer to the above prompt:\n"
   ]
  },
  {
   "cell_type": "code",
   "execution_count": 29,
   "metadata": {},
   "outputs": [
    {
     "name": "stdout",
     "output_type": "stream",
     "text": [
      "Hello, world!\n"
     ]
    }
   ],
   "source": [
    "#This is a comment\n",
    "print(\"Hello, world!\")  # This prints Hello, world! to the screen\""
   ]
  },
  {
   "cell_type": "markdown",
   "metadata": {},
   "source": [
    "## Exploring Prompts with Microsoft Copilot\n",
    "I have been submitting many prompts to Copilot to give myself a more clear understanding of python and its coding language. Here is a list of things i have discovered:"
   ]
  },
  {
   "cell_type": "markdown",
   "metadata": {},
   "source": [
    "### Variables\n",
    "1. variable = \"___\"\n",
    "2. Firstly, give the variable a name, then use the equals sign to assign the variable a value, and make sure to use either '' or \\\"\\\" to define this value.\n",
    "3. Once the variable has been assigned a value, we can combine this with the earlier print function to create something like: print(variable)\n",
    "4. Defining a variable can be very useful if you are going to be using that piece of code many times throughout a coding file. Reusability is key to coding as it cuts down characters and increases the codes readability.\n",
    "5. Variables should be assigned useful and descriptive names. If the variable you are assigning is someones first name for example, you could assign the variable the name firstName = \"___\""
   ]
  },
  {
   "cell_type": "code",
   "execution_count": 30,
   "metadata": {},
   "outputs": [
    {
     "name": "stdout",
     "output_type": "stream",
     "text": [
      "Hello my name is Jamie and I am 20 years old\n"
     ]
    }
   ],
   "source": [
    "# Define multiple variables\n",
    "greeting = \"Hello\"\n",
    "name = \"Jamie\"\n",
    "age = 20\n",
    "\n",
    "# Print the variables\\n\",\n",
    "print(greeting, \"my name is\" ,name, \"and I am\" ,age, \"years old\")"
   ]
  },
  {
   "cell_type": "markdown",
   "metadata": {},
   "source": [
    "### Functions\n",
    "1. def: the def function is used to define a new function\n",
    "2. def greeting: Secondly, naming the new function is very important, and like before, it is important to use a useful and descriptive name for your function. For example I have given the name 'greeting' as i am about to create a function that will give the output of a greeting.\n",
    "3. def greeting (): The brackets are used top define any parameters for the function. As this function doesn't have any parameters, it is left empty.\n",
    "4. Indented inside this function is whatever message you want printed. I will choose print (\"Hello there!\")\n",
    "5. Finally, you will call the function at the end like this: greeting(). This will display the message 'Hello there!'\n",
    "6. Creating functions can be very useful as it can tidy up many lines of code into one singular function. It can print or carry out many tasks, all under the one function, therefore only giving one execute command rather than several. It increases readability and is easier to understand.\""
   ]
  },
  {
   "cell_type": "code",
   "execution_count": 31,
   "metadata": {},
   "outputs": [
    {
     "name": "stdout",
     "output_type": "stream",
     "text": [
      "Hello there!\n"
     ]
    }
   ],
   "source": [
    "def greeting():\n",
    "    print(\"Hello there!\")\n",
    "greeting()"
   ]
  },
  {
   "cell_type": "markdown",
   "metadata": {},
   "source": [
    "### Loops\n",
    "\n",
    "for i in range(5): <br>\n",
    "    print(\"Hello, there!\")\n",
    "\n",
    "1. for: This keyword is used to start a for loop.\n",
    "2. i: This is a loop variable that takes on a new value from the sequence on each iteration of the loop. You can name it anything you like, but i is commonly used.\n",
    "3. in: This keyword is used to specify the sequence to loop over.\n",
    "4. range(5): This function generates a sequence of numbers from 0 to 4 (5 numbers in total). The loop will run once for each number in this sequence.\n",
    "5. :: The colon indicates the start of the loop's body.\n",
    "6. print(\\\"Hello, there!\\\"): This line is the body of the loop. It contains the code that will be executed on each iteration of the loop."
   ]
  },
  {
   "cell_type": "code",
   "execution_count": 32,
   "metadata": {},
   "outputs": [
    {
     "name": "stdout",
     "output_type": "stream",
     "text": [
      "Hello there!\n",
      "Hello there!\n",
      "Hello there!\n",
      "Hello there!\n",
      "Hello there!\n"
     ]
    }
   ],
   "source": [
    "for i in range(5):\n",
    "    print(\"Hello there!\")"
   ]
  },
  {
   "cell_type": "markdown",
   "metadata": {},
   "source": [
    "### Lists\n",
    "\n",
    "1. messages = [\"\", \"\", \"\", \"\", \"\"]: This line creates a list named messages and assigns it a collection of strings.\n",
    "- List: A list is a collection of items (elements) that are ordered and changeable. Lists are defined by square brackets [], and items are separated by commas.\n",
    "Elements: The items inside the list are called elements. In this case, the list contains five string elements: \"Hello, world!\", \"Hi there!\", \"Greetings!\", \"Welcome!\", and \"Howdy!\". <br>\n",
    "<br>\n",
    "2. for message in messages:: This line starts a for loop that will iterate over each element in the messages list.\n",
    "- Loop Variable: The loop variable message takes on the value of each element in the list on each iteration of the loop.<br>\n",
    "<br>\n",
    "3. print(message): This line is the body of the loop. It contains the code that will be executed on each iteration of the loop.\n",
    "- Printing Elements: The print function is used to display the value of the message variable, which changes with each iteration to the next element in the list."
   ]
  },
  {
   "cell_type": "code",
   "execution_count": 33,
   "metadata": {},
   "outputs": [
    {
     "name": "stdout",
     "output_type": "stream",
     "text": [
      "Hello, there!\n",
      "Hi!\n",
      "Greetings!\n",
      "Welcome!\n",
      "Howdy!\n"
     ]
    }
   ],
   "source": [
    "messages = [\"Hello, there!\", \"Hi!\", \"Greetings!\", \"Welcome!\", \"Howdy!\"]\n",
    "\n",
    "for message in messages:\n",
    "    print(message)"
   ]
  },
  {
   "cell_type": "markdown",
   "metadata": {},
   "source": [
    "### Dictionaries\n",
    "\n",
    "1. greetings = { ... }: This line creates a dictionary named greetings and assigns it a collection of key-value pairs.\n",
    "\n",
    "- Dictionary: A dictionary is a collection of key-value pairs. Each key is unique and is used to access its corresponding value. Dictionaries are defined by curly braces {}.\n",
    "- Key-Value Pairs: Each item in a dictionary is a pair consisting of a key and a value, separated by a colon :. In this example, the keys are language names (e.g., \"English\") and the values are greeting messages (e.g., \"Hello, world!\"). <br>\n",
    "<br>\n",
    "2. for language, greeting in greetings.items():: This line starts a for loop that will iterate over each key-value pair in the greetings dictionary.\n",
    "- greetings.items(): This method returns a view object that displays a list of the dictionary's key-value pairs. The loop variable language takes on the key, and greeting takes on the value for each pair.<br>\n",
    "<br>\n",
    "3. print(f\"In {language}: {greeting}\"): This line is the body of the loop. It contains the code that will be executed on each iteration of the loop.\n",
    "- Formatted String (f-string): The f before the string indicates that it is a formatted string. This allows you to include variables inside the string by placing them in curly braces {}. In this case, {language} and {greeting} are replaced with their respective values.\n"
   ]
  },
  {
   "cell_type": "code",
   "execution_count": 34,
   "metadata": {},
   "outputs": [
    {
     "name": "stdout",
     "output_type": "stream",
     "text": [
      "In English: Hello, world!\n",
      "In Spanish: ¡Hola, mundo!\n",
      "In French: Bonjour, le monde!\n",
      "In German: Hallo, Welt!\n",
      "In Japanese: こんにちは、世界！\n"
     ]
    }
   ],
   "source": [
    "greetings = {\n",
    "    \"English\": \"Hello, world!\",\n",
    "    \"Spanish\": \"¡Hola, mundo!\",\n",
    "    \"French\": \"Bonjour, le monde!\",\n",
    "    \"German\": \"Hallo, Welt!\",\n",
    "    \"Japanese\": \"こんにちは、世界！\"\n",
    "}\n",
    "\n",
    "for language, greeting in greetings.items():\n",
    "    print(f\"In {language}: {greeting}\")"
   ]
  },
  {
   "cell_type": "markdown",
   "metadata": {},
   "source": [
    "### Using Copilot\n",
    "\n",
    "These were just some of the things i learned through the use of Copilot:\n",
    "- I fed it prompts to help me understand different areas of python and it always came back with clear, concise descriptions of what I was lookoing for with examples of code too. \n",
    "- Copilot helps break down each section of the code while clearly explaining what the function of each part is.\n",
    "- All the sections of code that Copilot supplied worked first time without fail.\n",
    "- This provided a great platform for me to then do some coding of my own, which was under the variables section where I managed to assign multiple variables and print them all in the one string."
   ]
  },
  {
   "cell_type": "markdown",
   "metadata": {},
   "source": [
    "### Embedding a YouTube Video"
   ]
  },
  {
   "cell_type": "code",
   "execution_count": 8,
   "metadata": {},
   "outputs": [
    {
     "data": {
      "image/jpeg": "[encoded data removed]",
      "text/html": [
       "\n",
       "        <iframe\n",
       "            width=\"400\"\n",
       "            height=\"300\"\n",
       "            src=\"https://www.youtube.com/embed/i1m_DVpHusY\"\n",
       "            frameborder=\"0\"\n",
       "            allowfullscreen\n",
       "            \n",
       "        ></iframe>\n",
       "        "
      ],
      "text/plain": [
       "<IPython.lib.display.YouTubeVideo at 0x7edffc1f1550>"
      ]
     },
     "execution_count": 8,
     "metadata": {},
     "output_type": "execute_result"
    }
   ],
   "source": [
    "from IPython.display import *\n",
    "\n",
    "YouTubeVideo(\"i1m_DVpHusY\")"
   ]
  }
 ],
 "metadata": {
  "kernelspec": {
   "display_name": "Python 3",
   "language": "python",
   "name": "python3"
  },
  "language_info": {
   "codemirror_mode": {
    "name": "ipython",
    "version": 3
   },
   "file_extension": ".py",
   "mimetype": "text/x-python",
   "name": "python",
   "nbconvert_exporter": "python",
   "pygments_lexer": "ipython3",
   "version": "3.12.1"
  }
 },
 "nbformat": 4,
 "nbformat_minor": 2
}
