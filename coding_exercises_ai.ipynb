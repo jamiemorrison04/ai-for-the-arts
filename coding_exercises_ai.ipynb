{
 "cells": [
  {
   "cell_type": "markdown",
   "metadata": {},
   "source": [
    "# First Codespaces Markdown File\n",
    "\n",
    "I created this notebook to have a space where I can learn about basic programming concepts and exercise what I have learned in a coding space."
   ]
  },
  {
   "cell_type": "markdown",
   "metadata": {},
   "source": [
    "## First Coding Experience\n",
    "\n",
    "The following code is my first attempt at writing code for AI for the Arts course.\n"
   ]
  },
  {
   "cell_type": "code",
   "execution_count": 10,
   "metadata": {},
   "outputs": [
    {
     "name": "stdout",
     "output_type": "stream",
     "text": [
      "Hello, this is a test code! Can you read me?\n"
     ]
    }
   ],
   "source": [
    "print(\"Hello, this is a test code! Can you read me?\")"
   ]
  },
  {
   "cell_type": "markdown",
   "metadata": {},
   "source": [
    "## Printing\n",
    "\n",
    "I submitted this prompt to Microsoft Copilot: \"Could you suggest a python code for ‘Hello, world!’to demonstrate the concept of printing to a complete beginner in programming? Please explain the code step-by-step highlighting any key aspects.\"\n",
    "\n",
    "My takeaways:\n",
    "1. print function used to display text on the screen.\n",
    "2. Text found inside parentheses is called a string.\n",
    "3. You can manipulate the text of the string to say whatever you want, therefore displaying your own customised text.\n",
    "\n",
    "This is the code Microsoft Copilot supplied me with in answer to the above prompt:\n"
   ]
  },
  {
   "cell_type": "code",
   "execution_count": 12,
   "metadata": {},
   "outputs": [
    {
     "name": "stdout",
     "output_type": "stream",
     "text": [
      "Hello, world!\n"
     ]
    }
   ],
   "source": [
    "#This is a comment\n",
    "print(\"Hello, world!\")  # This prints Hello, world! to the screen\""
   ]
  },
  {
   "cell_type": "markdown",
   "metadata": {},
   "source": [
    "## Exploring Prompts with Microsoft Copilot\n",
    "I have been submitting many prompts to Copilot to give myself a more clear understanding of python and its coding language. Here is a list of things i have discovered:"
   ]
  },
  {
   "cell_type": "markdown",
   "metadata": {},
   "source": [
    "### Variables\n",
    "1. variable = \"___\"\n",
    "2. Firstly, give the variable a name, then use the equals sign to assign the variable a value, and make sure to use either '' or \\\"\\\" to define this value.\n",
    "3. Once the variable has been assigned a value, we can combine this with the earlier print function to create something like: print(variable)\n",
    "4. Defining a variable can be very useful if you are going to be using that piece of code many times throughout a coding file. Reusability is key to coding as it cuts down characters and increases the codes readability.\n",
    "5. Variables should be assigned useful and descriptive names. If the variable you are assigning is someones first name for example, you could assign the variable the name firstName = \"___\""
   ]
  },
  {
   "cell_type": "code",
   "execution_count": 13,
   "metadata": {},
   "outputs": [
    {
     "name": "stdout",
     "output_type": "stream",
     "text": [
      "Hello my name is Jamie and I am 20 years old\n"
     ]
    }
   ],
   "source": [
    "# Define multiple variables\n",
    "greeting = \"Hello\"\n",
    "name = \"Jamie\"\n",
    "age = 20\n",
    "\n",
    "# Print the variables\\n\",\n",
    "print(greeting, \"my name is\" ,name, \"and I am\" ,age, \"years old\")"
   ]
  }
 ],
 "metadata": {
  "kernelspec": {
   "display_name": "Python 3",
   "language": "python",
   "name": "python3"
  },
  "language_info": {
   "codemirror_mode": {
    "name": "ipython",
    "version": 3
   },
   "file_extension": ".py",
   "mimetype": "text/x-python",
   "name": "python",
   "nbconvert_exporter": "python",
   "pygments_lexer": "ipython3",
   "version": "3.12.1"
  }
 },
 "nbformat": 4,
 "nbformat_minor": 2
}
