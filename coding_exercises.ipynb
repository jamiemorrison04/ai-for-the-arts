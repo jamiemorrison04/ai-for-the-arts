{
 "cells": [
  {
   "cell_type": "markdown",
   "metadata": {},
   "source": [
    "# First Codespaces Markdown File\n",
    "\n",
    "I created this notebook to have a space where I can learn about basic programming concepts and exercise what I have learned in a coding space."
   ]
  },
  {
   "cell_type": "markdown",
   "metadata": {},
   "source": [
    "## First Coding Experience\n",
    "\n",
    "The following code is my first attempt at writing code for AI for the Arts course."
   ]
  },
  {
   "cell_type": "code",
   "execution_count": 1,
   "metadata": {},
   "outputs": [
    {
     "name": "stdout",
     "output_type": "stream",
     "text": [
      "Hello, this is a test code! Can you read me?\n"
     ]
    }
   ],
   "source": [
    "print(\"Hello, this is a test code! Can you read me?\")"
   ]
  },
  {
   "cell_type": "markdown",
   "metadata": {},
   "source": [
    "## Printing\n",
    "I submitted this prompt to Microsoft Copilot: \"Could you suggest a python\n",
    "code for ‘Hello, world!’to demonstrate the concept of printing to a\n",
    "complete beginner in programming? Please explain the code step-by-step\n",
    "highlighting any key aspects.\"\n",
    "\n",
    "My takeaways:\n",
    "1. print function used to display text on the screen.\n",
    "2. Text found inside parentheses is called a string.\n",
    "3. You can manipulate the text of the string to say whatever you want, therefore displaying your own customised text.\n",
    "\n",
    "This is the code Microsoft Copilot supplied me with in answer to the above prompt:"
   ]
  },
  {
   "cell_type": "code",
   "execution_count": 2,
   "metadata": {},
   "outputs": [
    {
     "name": "stdout",
     "output_type": "stream",
     "text": [
      "Hello, world!\n"
     ]
    }
   ],
   "source": [
    "# This is a comment\n",
    "print(\"Hello, world!\")  # This prints Hello, world! to the screen"
   ]
  },
  {
   "cell_type": "markdown",
   "metadata": {},
   "source": [
    "## Exploring Prompts with Microsoft Copilot\n",
    "\n",
    "I have been submitting many prompts to Copilot to give myself a more clear understanding of python and its coding language. Here is a list of things i have discovered:\n",
    "\n",
    "### Variables\n",
    "1. variable = \"___\"\n",
    "2. Firstly, give the variable a name, then use the equals sign to assign the variable a value, and make sure to use either '' or \"\" to define this value.\n",
    "3. Once the variable has been assigned a value, we can combine this with the earlier print function to create something like: print(variable)\n",
    "4. Defining a variable can be very useful if you are going to be using that piece of code many times throughout a coding file. Reusability is key to coding as it cuts down characters and increases the codes readability.\n",
    "5. Variables should be assigned useful and descriptive names. If the variable you are assigning is someones first name for example, you could assign the variable the name firstName = \"___\"."
   ]
  },
  {
   "cell_type": "markdown",
   "metadata": {},
   "source": [
    "### Functions\n",
    "1. def: the def function is used to define a new function\n",
    "2. def greeting: Secondly, naming the new function is very important, and like before, it is important to use a useful and descriptive name for your function. For example I have given the name 'greeting' as i am about to create a function that will give the output of a greeting.\n",
    "3. def greeting (): The brackets are used top define any parameters for the function. As this function doesn't have any parameters, it is left empty.\n",
    "4. Indented inside this function is whatever message you want printed. I will choose print (\"Hello there!\")\n",
    "5. Finally, you will call the function at the end like this: greeting(). This will display the message 'Hello there!'\n",
    "6. Creating functions can be very useful as it can tidy up many lines of code into one singular function. It can print or carry out many tasks, all under the one function, therefore only giving one execute command rather than several. It increases readability and is easier to understand.\n",
    "\n",
    "### Loops\n",
    "\n",
    "for i in range(5):\n",
    "    print(\"Hello, world!\")\n",
    "1. for: This keyword is used to start a for loop.\n",
    "2. i: This is a loop variable that takes on a new value from the sequence on each iteration of the loop. You can name it anything you like, but i is commonly used.\n",
    "3. in: This keyword is used to specify the sequence to loop over.\n",
    "4. range(5): This function generates a sequence of numbers from 0 to 4 (5 numbers in total). The loop will run once for each number in this sequence.\n",
    "5. :: The colon indicates the start of the loop's body.\n",
    "\n",
    "6. print(\"Hello, world!\"): This line is the body of the loop. It contains the code that will be executed on each iteration of the loop.\n"
   ]
  }
 ],
 "metadata": {
  "kernelspec": {
   "display_name": "Python 3",
   "language": "python",
   "name": "python3"
  },
  "language_info": {
   "codemirror_mode": {
    "name": "ipython",
    "version": 3
   },
   "file_extension": ".py",
   "mimetype": "text/x-python",
   "name": "python",
   "nbconvert_exporter": "python",
   "pygments_lexer": "ipython3",
   "version": "3.12.1"
  }
 },
 "nbformat": 4,
 "nbformat_minor": 2
}
